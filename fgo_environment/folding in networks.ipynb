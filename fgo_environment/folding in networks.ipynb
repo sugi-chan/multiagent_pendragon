{
 "cells": [
  {
   "cell_type": "code",
   "execution_count": 1,
   "metadata": {},
   "outputs": [],
   "source": [
    "action_dict = {0: ('pass', 'pass'),\n",
    "                            1: ('sk1', 1),\n",
    "                            2: ('sk2', 2),\n",
    "                            3: ('sk3', 3)}"
   ]
  },
  {
   "cell_type": "code",
   "execution_count": 10,
   "metadata": {},
   "outputs": [
    {
     "data": {
      "text/plain": [
       "(3, ('sk3', 3))"
      ]
     },
     "execution_count": 10,
     "metadata": {},
     "output_type": "execute_result"
    }
   ],
   "source": [
    "import random\n",
    "import copy\n",
    "used_skill_1 = 1\n",
    "used_skill_2 = 0\n",
    "used_skill_3 = 0\n",
    "\n",
    "def get_random_action():\n",
    "        action_dict_copy = copy.deepcopy(action_dict)\n",
    "        if used_skill_1 == 1:\n",
    "            del action_dict_copy[1]\n",
    "        if used_skill_2 == 1:\n",
    "            del action_dict_copy[2]\n",
    "        if used_skill_3 == 1:\n",
    "            del action_dict_copy[3]\n",
    "        random_pass_list = [(0,('pass', 'pass'))*(int(1 * len(action_dict)))]\n",
    "        return random.choice(list(action_dict_copy.items())+random_pass_list)\n",
    "    \n",
    "get_random_action()"
   ]
  },
  {
   "cell_type": "code",
   "execution_count": 11,
   "metadata": {},
   "outputs": [
    {
     "name": "stdout",
     "output_type": "stream",
     "text": [
      "('pass', 'pass')\n",
      "('pass', 'pass')\n",
      "('pass', 'pass')\n",
      "('pass', 'pass')\n",
      "('sk2', 2)\n",
      "('sk2', 2)\n",
      "('sk3', 3)\n",
      "('pass', 'pass')\n",
      "('pass', 'pass')\n",
      "('sk3', 3)\n"
     ]
    }
   ],
   "source": [
    "for i in range(10):\n",
    "    print(get_random_action()[1])"
   ]
  },
  {
   "cell_type": "code",
   "execution_count": 5,
   "metadata": {},
   "outputs": [],
   "source": [
    "random_pass_list = [(0,('pass', 'pass'))*(int(1 * len(action_dict)))]"
   ]
  },
  {
   "cell_type": "code",
   "execution_count": 6,
   "metadata": {},
   "outputs": [
    {
     "data": {
      "text/plain": [
       "[(0,\n",
       "  ('pass', 'pass'),\n",
       "  0,\n",
       "  ('pass', 'pass'),\n",
       "  0,\n",
       "  ('pass', 'pass'),\n",
       "  0,\n",
       "  ('pass', 'pass'))]"
      ]
     },
     "execution_count": 6,
     "metadata": {},
     "output_type": "execute_result"
    }
   ],
   "source": [
    "random_pass_list"
   ]
  },
  {
   "cell_type": "code",
   "execution_count": 9,
   "metadata": {},
   "outputs": [
    {
     "data": {
      "text/plain": [
       "[(0, ('pass', 'pass')),\n",
       " (1, ('sk1', 1)),\n",
       " (2, ('sk2', 2)),\n",
       " (3, ('sk3', 3)),\n",
       " (0,\n",
       "  ('pass', 'pass'),\n",
       "  0,\n",
       "  ('pass', 'pass'),\n",
       "  0,\n",
       "  ('pass', 'pass'),\n",
       "  0,\n",
       "  ('pass', 'pass'))]"
      ]
     },
     "execution_count": 9,
     "metadata": {},
     "output_type": "execute_result"
    }
   ],
   "source": [
    "list(action_dict.items())+random_pass_list"
   ]
  },
  {
   "cell_type": "code",
   "execution_count": null,
   "metadata": {},
   "outputs": [],
   "source": []
  }
 ],
 "metadata": {
  "kernelspec": {
   "display_name": "Python 3",
   "language": "python",
   "name": "python3"
  },
  "language_info": {
   "codemirror_mode": {
    "name": "ipython",
    "version": 3
   },
   "file_extension": ".py",
   "mimetype": "text/x-python",
   "name": "python",
   "nbconvert_exporter": "python",
   "pygments_lexer": "ipython3",
   "version": "3.7.3"
  }
 },
 "nbformat": 4,
 "nbformat_minor": 2
}
