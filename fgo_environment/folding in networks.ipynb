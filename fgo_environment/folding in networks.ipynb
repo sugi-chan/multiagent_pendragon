{
 "cells": [
  {
   "cell_type": "code",
   "execution_count": 1,
   "metadata": {},
   "outputs": [],
   "source": [
    "action_dict = {0: ('pass', 'pass'),\n",
    "                            1: ('sk1', 1),\n",
    "                            2: ('sk2', 2),\n",
    "                            3: ('sk3', 3)}"
   ]
  },
  {
   "cell_type": "code",
   "execution_count": 10,
   "metadata": {},
   "outputs": [
    {
     "data": {
      "text/plain": [
       "(3, ('sk3', 3))"
      ]
     },
     "execution_count": 10,
     "metadata": {},
     "output_type": "execute_result"
    }
   ],
   "source": [
    "import random\n",
    "import copy\n",
    "used_skill_1 = 1\n",
    "used_skill_2 = 0\n",
    "used_skill_3 = 0\n",
    "\n",
    "def get_random_action():\n",
    "        action_dict_copy = copy.deepcopy(action_dict)\n",
    "        if used_skill_1 == 1:\n",
    "            del action_dict_copy[1]\n",
    "        if used_skill_2 == 1:\n",
    "            del action_dict_copy[2]\n",
    "        if used_skill_3 == 1:\n",
    "            del action_dict_copy[3]\n",
    "        random_pass_list = [(0,('pass', 'pass'))*(int(1 * len(action_dict)))]\n",
    "        return random.choice(list(action_dict_copy.items())+random_pass_list)\n",
    "    \n",
    "get_random_action()"
   ]
  },
  {
   "cell_type": "code",
   "execution_count": 11,
   "metadata": {},
   "outputs": [
    {
     "name": "stdout",
     "output_type": "stream",
     "text": [
      "('pass', 'pass')\n",
      "('pass', 'pass')\n",
      "('pass', 'pass')\n",
      "('pass', 'pass')\n",
      "('sk2', 2)\n",
      "('sk2', 2)\n",
      "('sk3', 3)\n",
      "('pass', 'pass')\n",
      "('pass', 'pass')\n",
      "('sk3', 3)\n"
     ]
    }
   ],
   "source": [
    "for i in range(10):\n",
    "    print(get_random_action()[1])"
   ]
  },
  {
   "cell_type": "code",
   "execution_count": 5,
   "metadata": {},
   "outputs": [],
   "source": [
    "random_pass_list = [(0,('pass', 'pass'))*(int(1 * len(action_dict)))]"
   ]
  },
  {
   "cell_type": "code",
   "execution_count": 6,
   "metadata": {},
   "outputs": [
    {
     "data": {
      "text/plain": [
       "[(0,\n",
       "  ('pass', 'pass'),\n",
       "  0,\n",
       "  ('pass', 'pass'),\n",
       "  0,\n",
       "  ('pass', 'pass'),\n",
       "  0,\n",
       "  ('pass', 'pass'))]"
      ]
     },
     "execution_count": 6,
     "metadata": {},
     "output_type": "execute_result"
    }
   ],
   "source": [
    "random_pass_list"
   ]
  },
  {
   "cell_type": "code",
   "execution_count": 9,
   "metadata": {},
   "outputs": [
    {
     "data": {
      "text/plain": [
       "[(0, ('pass', 'pass')),\n",
       " (1, ('sk1', 1)),\n",
       " (2, ('sk2', 2)),\n",
       " (3, ('sk3', 3)),\n",
       " (0,\n",
       "  ('pass', 'pass'),\n",
       "  0,\n",
       "  ('pass', 'pass'),\n",
       "  0,\n",
       "  ('pass', 'pass'),\n",
       "  0,\n",
       "  ('pass', 'pass'))]"
      ]
     },
     "execution_count": 9,
     "metadata": {},
     "output_type": "execute_result"
    }
   ],
   "source": [
    "list(action_dict.items())+random_pass_list"
   ]
  },
  {
   "cell_type": "code",
   "execution_count": 1,
   "metadata": {},
   "outputs": [],
   "source": [
    "import numpy as np\n",
    "def softmax(X):\n",
    "    expo = np.exp(X)\n",
    "    expo_sum = np.sum(np.exp(X))\n",
    "    return expo/expo_sum"
   ]
  },
  {
   "cell_type": "code",
   "execution_count": 77,
   "metadata": {},
   "outputs": [],
   "source": [
    "test = np.array([[0.55300971, 0.14902494, 0.14899144, 0.14897391]])"
   ]
  },
  {
   "cell_type": "code",
   "execution_count": 78,
   "metadata": {},
   "outputs": [
    {
     "data": {
      "text/plain": [
       "array([[0.55300971, 0.14902494, 0.14899144, 0.14897391]])"
      ]
     },
     "execution_count": 78,
     "metadata": {},
     "output_type": "execute_result"
    }
   ],
   "source": [
    "test"
   ]
  },
  {
   "cell_type": "code",
   "execution_count": 79,
   "metadata": {},
   "outputs": [
    {
     "data": {
      "text/plain": [
       "array([[0.33301071, 0.22233603, 0.22232858, 0.22232468]])"
      ]
     },
     "execution_count": 79,
     "metadata": {},
     "output_type": "execute_result"
    }
   ],
   "source": [
    "softmax(test)"
   ]
  },
  {
   "cell_type": "code",
   "execution_count": 80,
   "metadata": {},
   "outputs": [],
   "source": [
    "zz = test"
   ]
  },
  {
   "cell_type": "code",
   "execution_count": 81,
   "metadata": {},
   "outputs": [],
   "source": [
    "zz[0][1] = zz[0][0] +3"
   ]
  },
  {
   "cell_type": "code",
   "execution_count": 82,
   "metadata": {},
   "outputs": [
    {
     "name": "stdout",
     "output_type": "stream",
     "text": [
      "0.55300971\n",
      "3.55300971\n",
      "0.14899144\n",
      "0.14897391\n"
     ]
    },
    {
     "data": {
      "text/plain": [
       "array([[0.04460146, 0.89584434, 0.02977736, 0.02977684]])"
      ]
     },
     "execution_count": 82,
     "metadata": {},
     "output_type": "execute_result"
    }
   ],
   "source": [
    "for i in zz[0]:\n",
    "    print(i)\n",
    "softmax(zz)"
   ]
  },
  {
   "cell_type": "code",
   "execution_count": 5,
   "metadata": {},
   "outputs": [
    {
     "data": {
      "text/plain": [
       "[55.300971, 14.902493999999999, 14.899144, 14.897390999999999]"
      ]
     },
     "execution_count": 5,
     "metadata": {},
     "output_type": "execute_result"
    }
   ],
   "source": [
    "[i*100 for i in test[0]]"
   ]
  },
  {
   "cell_type": "code",
   "execution_count": 10,
   "metadata": {},
   "outputs": [
    {
     "data": {
      "text/plain": [
       "array([[0.93775386, 0.02075456, 0.02074761, 0.02074397]])"
      ]
     },
     "execution_count": 10,
     "metadata": {},
     "output_type": "execute_result"
    }
   ],
   "source": [
    "softmax(np.array([[5.300971, 1.4902493999999999, 1.4899144, 1.4897390999999999]]))"
   ]
  },
  {
   "cell_type": "code",
   "execution_count": 9,
   "metadata": {},
   "outputs": [
    {
     "data": {
      "text/plain": [
       "array([0.37754067, 0.62245933])"
      ]
     },
     "execution_count": 9,
     "metadata": {},
     "output_type": "execute_result"
    }
   ],
   "source": [
    "softmax([.5,1])"
   ]
  },
  {
   "cell_type": "code",
   "execution_count": 21,
   "metadata": {},
   "outputs": [],
   "source": [
    "# custom function\n",
    "import math\n",
    "def sigmoid(x):\n",
    "    return 1/(1 + np.exp(-x)) \n",
    "\n",
    "zz = sigmoid(test)"
   ]
  },
  {
   "cell_type": "code",
   "execution_count": 22,
   "metadata": {},
   "outputs": [
    {
     "name": "stdout",
     "output_type": "stream",
     "text": [
      "0.6348335844214177\n",
      "0.5371874375685064\n",
      "0.537179108885466\n",
      "0.5371747506141017\n"
     ]
    }
   ],
   "source": [
    "for i in zz[0]:\n",
    "    print(i)"
   ]
  },
  {
   "cell_type": "code",
   "execution_count": 35,
   "metadata": {},
   "outputs": [],
   "source": [
    "zz[0][0] = 3"
   ]
  },
  {
   "cell_type": "code",
   "execution_count": 36,
   "metadata": {},
   "outputs": [
    {
     "data": {
      "text/plain": [
       "array([[3.        , 0.53718744, 0.53717911, 0.53717475]])"
      ]
     },
     "execution_count": 36,
     "metadata": {},
     "output_type": "execute_result"
    }
   ],
   "source": [
    "zz"
   ]
  },
  {
   "cell_type": "code",
   "execution_count": 37,
   "metadata": {},
   "outputs": [
    {
     "data": {
      "text/plain": [
       "array([[0.95257413, 0.6311579 , 0.63115596, 0.63115495]])"
      ]
     },
     "execution_count": 37,
     "metadata": {},
     "output_type": "execute_result"
    }
   ],
   "source": [
    "sigmoid(zz)"
   ]
  },
  {
   "cell_type": "code",
   "execution_count": 38,
   "metadata": {},
   "outputs": [
    {
     "data": {
      "text/plain": [
       "array([[0.31492487, 0.22835875, 0.22835831, 0.22835808]])"
      ]
     },
     "execution_count": 38,
     "metadata": {},
     "output_type": "execute_result"
    }
   ],
   "source": [
    "softmax(np.array([[0.95257413, 0.6311579 , 0.63115596, 0.63115495]]))"
   ]
  },
  {
   "cell_type": "code",
   "execution_count": 1,
   "metadata": {},
   "outputs": [
    {
     "name": "stdout",
     "output_type": "stream",
     "text": [
      "c3\n",
      "c2\n",
      "c1\n"
     ]
    }
   ],
   "source": [
    "card_indices = (2, 1, 0)\n",
    "for card_index in card_indices:\n",
    "    if card_index == 0:\n",
    "        print('c1')\n",
    "    elif card_index == 1:\n",
    "        print('c2')\n",
    "    elif card_index == 2:\n",
    "        print('c3')\n",
    "    elif card_index == 3:\n",
    "        print('c4')\n",
    "    elif card_index == 4:\n",
    "        print('c5')"
   ]
  },
  {
   "cell_type": "code",
   "execution_count": null,
   "metadata": {},
   "outputs": [],
   "source": []
  }
 ],
 "metadata": {
  "kernelspec": {
   "display_name": "Python 3",
   "language": "python",
   "name": "python3"
  },
  "language_info": {
   "codemirror_mode": {
    "name": "ipython",
    "version": 3
   },
   "file_extension": ".py",
   "mimetype": "text/x-python",
   "name": "python",
   "nbconvert_exporter": "python",
   "pygments_lexer": "ipython3",
   "version": "3.7.4"
  }
 },
 "nbformat": 4,
 "nbformat_minor": 2
}
